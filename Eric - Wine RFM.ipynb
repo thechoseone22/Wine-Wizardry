{
 "cells": [
  {
   "cell_type": "code",
   "execution_count": null,
   "id": "7dceb0d9-7a23-4416-bf28-69cbd3816363",
   "metadata": {},
   "outputs": [],
   "source": [
    "!pip install xgboost"
   ]
  },
  {
   "cell_type": "code",
   "execution_count": 1,
   "id": "01b14ea3-6a43-46d8-92cc-984c765c0142",
   "metadata": {},
   "outputs": [],
   "source": [
    "import pandas as pd\n",
    "from sklearn.model_selection import train_test_split\n",
    "from sklearn.ensemble import RandomForestClassifier\n",
    "from sklearn.metrics import accuracy_score, confusion_matrix, classification_report\n",
    "import matplotlib.pyplot as plt\n",
    "import seaborn as sns\n",
    "from sklearn.metrics import confusion_matrix\n",
    "from sklearn.preprocessing import StandardScaler\n",
    "from xgboost import XGBClassifier\n",
    "from imblearn.over_sampling import SMOTE\n",
    "from sklearn.model_selection import GridSearchCV"
   ]
  },
  {
   "cell_type": "code",
   "execution_count": 2,
   "id": "732a6ae5-c41b-470d-8eef-3d8a35537538",
   "metadata": {},
   "outputs": [
    {
     "data": {
      "text/plain": [
       "(   fixed acidity  volatile acidity  citric acid  residual sugar  chlorides  \\\n",
       " 0            7.0              0.27         0.36            20.7      0.045   \n",
       " 1            6.3              0.30         0.34             1.6      0.049   \n",
       " 2            8.1              0.28         0.40             6.9      0.050   \n",
       " 3            7.2              0.23         0.32             8.5      0.058   \n",
       " 4            7.2              0.23         0.32             8.5      0.058   \n",
       " \n",
       "    free sulfur dioxide  total sulfur dioxide  density    pH  sulphates  \\\n",
       " 0                 45.0                 170.0   1.0010  3.00       0.45   \n",
       " 1                 14.0                 132.0   0.9940  3.30       0.49   \n",
       " 2                 30.0                  97.0   0.9951  3.26       0.44   \n",
       " 3                 47.0                 186.0   0.9956  3.19       0.40   \n",
       " 4                 47.0                 186.0   0.9956  3.19       0.40   \n",
       " \n",
       "    alcohol  quality  \n",
       " 0      8.8        6  \n",
       " 1      9.5        6  \n",
       " 2     10.1        6  \n",
       " 3      9.9        6  \n",
       " 4      9.9        6  ,\n",
       "    fixed acidity  volatile acidity  citric acid  residual sugar  chlorides  \\\n",
       " 0            7.4              0.70         0.00             1.9      0.076   \n",
       " 1            7.8              0.88         0.00             2.6      0.098   \n",
       " 2            7.8              0.76         0.04             2.3      0.092   \n",
       " 3           11.2              0.28         0.56             1.9      0.075   \n",
       " 4            7.4              0.70         0.00             1.9      0.076   \n",
       " \n",
       "    free sulfur dioxide  total sulfur dioxide  density    pH  sulphates  \\\n",
       " 0                 11.0                  34.0   0.9978  3.51       0.56   \n",
       " 1                 25.0                  67.0   0.9968  3.20       0.68   \n",
       " 2                 15.0                  54.0   0.9970  3.26       0.65   \n",
       " 3                 17.0                  60.0   0.9980  3.16       0.58   \n",
       " 4                 11.0                  34.0   0.9978  3.51       0.56   \n",
       " \n",
       "    alcohol  quality  \n",
       " 0      9.4        5  \n",
       " 1      9.8        5  \n",
       " 2      9.8        5  \n",
       " 3      9.8        6  \n",
       " 4      9.4        5  )"
      ]
     },
     "execution_count": 2,
     "metadata": {},
     "output_type": "execute_result"
    }
   ],
   "source": [
    "# white and red wine datasets\n",
    "white_wine_data = pd.read_csv('C:/Users/jasmi/Projects/Wine-Wizardry/wine-quality White.csv')\n",
    "red_wine_data = pd.read_csv('C:/Users/jasmi/Projects/Wine-Wizardry/wine-quality Red.csv')\n",
    "\n",
    "# Display first few rows \n",
    "white_wine_data.head(), red_wine_data.head()"
   ]
  },
  {
   "cell_type": "code",
   "execution_count": 3,
   "id": "64e45b7c-f177-4440-8821-d75379d170c1",
   "metadata": {},
   "outputs": [],
   "source": [
    "# define features and target\n",
    "white_wine_features = white_wine_data.drop(columns=['quality'])\n",
    "white_wine_target = white_wine_data['quality']\n",
    "\n",
    "red_wine_features = red_wine_data.drop(columns=['quality'])\n",
    "red_wine_target = red_wine_data['quality']\n",
    "\n",
    "\n",
    "\n"
   ]
  },
  {
   "cell_type": "code",
   "execution_count": 4,
   "id": "a880fc60-e0a1-4895-ba99-88f60226ded1",
   "metadata": {},
   "outputs": [],
   "source": [
    "# Add a 'wine_type' to distinguish red and white wines\n",
    "white_wine_data['wine_type'] = 1\n",
    "red_wine_data['wine_type'] = 0\n",
    "\n",
    "# combine\n",
    "wine_data = pd.concat([white_wine_data, red_wine_data], axis=0)\n",
    "\n",
    "# separate features and target\n",
    "X = wine_data.drop(columns=['quality'])\n",
    "y = wine_data['quality']\n",
    "\n",
    "y_adjusted = y - 3"
   ]
  },
  {
   "cell_type": "code",
   "execution_count": 5,
   "id": "1d214bbe-1d4c-4cfa-955b-e5ac6eb25361",
   "metadata": {},
   "outputs": [],
   "source": [
    "# split data\n",
    "X_train, X_test, y_train, y_test = train_test_split(X, y_adjusted, test_size=0.2, random_state=42)"
   ]
  },
  {
   "cell_type": "code",
   "execution_count": 6,
   "id": "fda47567-5a8d-442d-a30b-8598c83ab6e0",
   "metadata": {},
   "outputs": [],
   "source": [
    "# the scaler\n",
    "scaler = StandardScaler()\n",
    "\n",
    "# Scale separately Richard\n",
    "white_wine_scaled = pd.DataFrame(scaler.fit_transform(white_wine_features), columns=white_wine_features.columns)\n",
    "red_wine_scaled = pd.DataFrame(scaler.fit_transform(red_wine_features), columns=red_wine_features.columns)"
   ]
  },
  {
   "cell_type": "code",
   "execution_count": 8,
   "id": "9b5e2d9c-eea9-4ac6-9059-90cdeef953ce",
   "metadata": {},
   "outputs": [],
   "source": [
    "# train random forest\n",
    "rf_model = RandomForestClassifier(max_depth=20, min_samples_leaf=2, n_estimators=200, random_state=42)\n",
    "rf_model.fit(X_train, y_train)\n",
    "\n",
    "# predict\n",
    "y_pred = rf_model.predict(X_test)"
   ]
  },
  {
   "cell_type": "code",
   "execution_count": 10,
   "id": "0ecd420e-ad7a-4a59-ab2a-caa91a88602a",
   "metadata": {},
   "outputs": [
    {
     "name": "stdout",
     "output_type": "stream",
     "text": [
      "Fitting 5 folds for each of 162 candidates, totalling 810 fits\n"
     ]
    }
   ],
   "source": [
    "param_grid = {\n",
    "    'n_estimators': [100, 200, 300],\n",
    "    'max_depth': [None, 10, 20],\n",
    "    'min_samples_split': [2, 5, 10],\n",
    "    'min_samples_leaf': [1, 2, 4],\n",
    "    'max_features': ['sqrt', 'log2']\n",
    "}\n",
    "\n",
    "grid_search = GridSearchCV(estimator=rf_model, param_grid=param_grid, cv=5, verbose=2, n_jobs=-1)\n",
    "grid_search.fit(X_train, y_train)\n",
    "\n",
    "best_rf_model = grid_search.best_estimator_"
   ]
  },
  {
   "cell_type": "code",
   "execution_count": null,
   "id": "3af9d715-a0e8-41d0-b82e-f8c967ea296a",
   "metadata": {},
   "outputs": [],
   "source": [
    "# accuracy and confusion matrix\n",
    "accuracy = accuracy_score(y_test, y_pred)\n",
    "conf_matrix = confusion_matrix(y_test, y_pred)\n",
    "\n",
    "accuracy, conf_matrix"
   ]
  },
  {
   "cell_type": "code",
   "execution_count": null,
   "id": "aa60cb91-7a75-4e3a-8e16-cedde73fa5bd",
   "metadata": {},
   "outputs": [],
   "source": [
    "# feature importance\n",
    "feature_importances = rf_model.feature_importances_\n",
    "features = X.columns\n",
    "\n",
    "plt.figure(figsize=(10, 6))\n",
    "sns.barplot(x=feature_importances, y=features)\n",
    "plt.title('Which feature had most impact in quality')\n",
    "plt.show()"
   ]
  },
  {
   "cell_type": "code",
   "execution_count": null,
   "id": "113c1fcd-7b0f-4c3e-b49e-c5cd38b49389",
   "metadata": {},
   "outputs": [],
   "source": [
    "plt.figure(figsize=(8,6))\n",
    "ax = sns.heatmap(conf_matrix, annot=True, fmt='d', cmap='Blues', xticklabels=[3, 4, 5, 6, 7, 8], yticklabels=[3, 4, 5, 6, 7, 8])\n",
    "ax.set_title('Confusion Matrix')\n",
    "ax.set_xlabel('Predicted Quality')\n",
    "ax.set_ylabel('True Quality')\n",
    "for i in range(conf_matrix.shape[0]):\n",
    "    for j in range(conf_matrix.shape[1]):\n",
    "        ax.text(j + 0.5, i + 0.5, conf_matrix[i, j], ha='center', va='center', color='black')\n",
    "plt.tight_layout()\n",
    "plt.show()"
   ]
  },
  {
   "cell_type": "code",
   "execution_count": null,
   "id": "075a0e10-147d-4832-bb4c-201a3ef90c23",
   "metadata": {},
   "outputs": [],
   "source": [
    "xgb_model = XGBClassifier(use_label_encoder=False, eval_metric='mlogloss')\n",
    "\n",
    "# Train the model\n",
    "xgb_model.fit(X_train, y_train)\n",
    "\n",
    "# prediction\n",
    "y_pred = xgb_model.predict(X_test)\n",
    "y_pred_original = y_pred + 3\n",
    "\n",
    "# evaluate accuracy, confusion Matrix, and classification report\n",
    "accuracy = accuracy_score(y_test + 3, y_pred_original)\n",
    "conf_matrix = confusion_matrix(y_test + 3, y_pred_original)\n",
    "classification_rep = classification_report(y_test + 3, y_pred_original)\n",
    "\n",
    "accuracy, conf_matrix, classification_rep"
   ]
  },
  {
   "cell_type": "code",
   "execution_count": null,
   "id": "0787ee18-0570-473a-9bef-1318fa75c69c",
   "metadata": {},
   "outputs": [],
   "source": [
    "plt.figure(figsize=(8,6))\n",
    "ax = sns.heatmap(conf_matrix, annot=True, fmt='d', cmap='Blues', xticklabels=[3, 4, 5, 6, 7, 8], yticklabels=[3, 4, 5, 6, 7, 8])\n",
    "ax.set_title('Confusion Matrix')\n",
    "ax.set_xlabel('Predicted Quality')\n",
    "ax.set_ylabel('True Quality')\n",
    "for i in range(conf_matrix.shape[0]):\n",
    "    for j in range(conf_matrix.shape[1]):\n",
    "        ax.text(j + 0.5, i + 0.5, conf_matrix[i, j], ha='center', va='center', color='black')\n",
    "plt.tight_layout()\n",
    "plt.show()"
   ]
  },
  {
   "cell_type": "code",
   "execution_count": null,
   "id": "654b33a0-1c0c-4363-8023-d7bae080fbcb",
   "metadata": {},
   "outputs": [],
   "source": []
  }
 ],
 "metadata": {
  "kernelspec": {
   "display_name": "Python 3 (ipykernel)",
   "language": "python",
   "name": "python3"
  },
  "language_info": {
   "codemirror_mode": {
    "name": "ipython",
    "version": 3
   },
   "file_extension": ".py",
   "mimetype": "text/x-python",
   "name": "python",
   "nbconvert_exporter": "python",
   "pygments_lexer": "ipython3",
   "version": "3.11.7"
  }
 },
 "nbformat": 4,
 "nbformat_minor": 5
}
