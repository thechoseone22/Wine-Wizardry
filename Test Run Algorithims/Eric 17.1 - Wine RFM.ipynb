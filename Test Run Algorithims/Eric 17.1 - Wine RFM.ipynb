{
 "cells": [
  {
   "cell_type": "code",
   "execution_count": null,
   "id": "01b14ea3-6a43-46d8-92cc-984c765c0142",
   "metadata": {},
   "outputs": [],
   "source": [
    "import pandas as pd\n",
    "from sklearn.model_selection import train_test_split, GridSearchCV, cross_val_score\n",
    "from sklearn.ensemble import RandomForestClassifier\n",
    "from sklearn.metrics import accuracy_score, confusion_matrix, classification_report\n",
    "from sklearn.preprocessing import StandardScaler\n",
    "from sklearn.decomposition import PCA\n",
    "from imblearn.over_sampling import SMOTE\n",
    "import matplotlib.pyplot as plt\n",
    "import seaborn as sns"
   ]
  },
  {
   "cell_type": "code",
   "execution_count": null,
   "id": "732a6ae5-c41b-470d-8eef-3d8a35537538",
   "metadata": {},
   "outputs": [],
   "source": [
    "# white and red wine datasets\n",
    "white_wine_data = pd.read_csv('C:/Users/jasmi/Projects/Wine-Wizardry/wine-quality White.csv')\n",
    "red_wine_data = pd.read_csv('C:/Users/jasmi/Projects/Wine-Wizardry/wine-quality Red.csv')\n",
    "\n",
    "# Display first few rows \n",
    "white_wine_data.head(), red_wine_data.head()"
   ]
  },
  {
   "cell_type": "code",
   "execution_count": null,
   "id": "64e45b7c-f177-4440-8821-d75379d170c1",
   "metadata": {},
   "outputs": [],
   "source": [
    "# Add 'wine_type' to distinguish between red and white\n",
    "# white_wine_data['wine_type'] = 1\n",
    "# red_wine_data['wine_type'] = 0\n",
    "\n",
    "\n",
    "\n",
    "X = red_wine_data.drop(columns=['quality'])\n",
    "y = red_wine_data['quality']\n"
   ]
  },
  {
   "cell_type": "code",
   "execution_count": null,
   "id": "1d214bbe-1d4c-4cfa-955b-e5ac6eb25361",
   "metadata": {},
   "outputs": [],
   "source": [
    "# split data\n",
    "X_train, X_test, y_train, y_test = train_test_split(X, y, test_size=0.2, random_state=42)\n",
    "# X_train, X_test, y_train, y_test = train_test_split(X, y_adjusted, test_size=0.2, random_state=42)"
   ]
  },
  {
   "cell_type": "code",
   "execution_count": null,
   "id": "b5f02909-e37d-45d2-b0ae-a82cab2e5c86",
   "metadata": {},
   "outputs": [],
   "source": [
    "# the scaler\n",
    "scaler = StandardScaler()\n",
    "\n",
    "X_train_scaled = scaler.fit_transform(X_train)\n",
    "X_test_scaled = scaler.transform(X_test)"
   ]
  },
  {
   "cell_type": "code",
   "execution_count": null,
   "id": "0e04235b-8cf9-44eb-8590-e7d5847e1eba",
   "metadata": {},
   "outputs": [],
   "source": [
    "pca = PCA(n_components=9)  \n",
    "X_train_pca = pca.fit_transform(X_train_scaled)\n",
    "X_test_pca = pca.transform(X_test_scaled)\n",
    "pca_components_df = pd.DataFrame(pca.components_, columns=X.columns)\n",
    "print(pca.explained_variance_ratio_)\n",
    "print(X_train_pca.shape)\n",
    "print(pca_components_df)"
   ]
  },
  {
   "cell_type": "code",
   "execution_count": null,
   "id": "dc76879a-1446-48e0-892b-ec23d941850f",
   "metadata": {},
   "outputs": [],
   "source": [
    "# Manually add annotations for each cell\n",
    "plt.figure(figsize=(15, 10))\n",
    "ax = sns.heatmap(pca_components_df, annot=False, fmt=\".2f\", cmap='coolwarm', xticklabels=X.columns, yticklabels=[f'PC{i+1}' for i in range(len(pca.explained_variance_ratio_))])\n",
    "\n",
    "# Manually add annotations using plt.text\n",
    "for i in range(pca_components_df.shape[0]):\n",
    "    for j in range(pca_components_df.shape[1]):\n",
    "        plt.text(j+0.5, i+0.5, f'{pca_components_df.values[i,j]:.2f}', ha='center', va='center', color='black')\n",
    "\n",
    "plt.title('Contribution of Original Features to Principal Components')\n",
    "plt.show()"
   ]
  },
  {
   "cell_type": "code",
   "execution_count": null,
   "id": "e251b61e-b91c-4def-b973-228a36fc0e9a",
   "metadata": {},
   "outputs": [],
   "source": [
    "# Apply SMOTE for class imbalance in combined dataset\n",
    "smote = SMOTE(random_state=42, k_neighbors=2)  # Set k_neighbors to a lower value\n",
    "X_train_resampled, y_train_resampled = smote.fit_resample(X_train_pca, y_train)"
   ]
  },
  {
   "cell_type": "code",
   "execution_count": null,
   "id": "0ecd420e-ad7a-4a59-ab2a-caa91a88602a",
   "metadata": {},
   "outputs": [],
   "source": [
    "rf_model = RandomForestClassifier(bootstrap=False, class_weight='balanced_subsample', max_depth=20, max_features='log2', min_samples_leaf=1, \n",
    "                                  min_samples_split=2, n_estimators=500, random_state=42)\n",
    "# param_grid = {\n",
    "#     'n_estimators': [200, 300, 400, 500],\n",
    "#     'max_depth': [None, 10, 20, 30, 40],\n",
    "#     'min_samples_split': [2, 5, 10, 20],\n",
    "#     'min_samples_leaf': [1, 2, 4, 10],\n",
    "#     'max_features': ['auto', 'sprt', 'log2'],\n",
    "#     'bootstrap': [True, False],\n",
    "#     'class_weight': ['balance', 'balanced_subsample']\n",
    "# }\n",
    "\n",
    "# grid_search = GridSearchCV(estimator=rf_model, param_grid=param_grid, cv=5, verbose=2, n_jobs=-1)\n",
    "# grid_search.fit(X_train_pca, y_train)\n",
    "\n",
    "# best_rf_model = grid_search.best_estimator_"
   ]
  },
  {
   "cell_type": "code",
   "execution_count": null,
   "id": "d533ce01-bcee-4caa-854e-c44e49830a7b",
   "metadata": {},
   "outputs": [],
   "source": [
    "print(f\"Best Parameters: {grid_search.best_params_}\")\n",
    "print(f\"Accuracy: {accuracy}\")\n",
    "print(classification_report(y_test, y_pred))"
   ]
  },
  {
   "cell_type": "code",
   "execution_count": null,
   "id": "9b5e2d9c-eea9-4ac6-9059-90cdeef953ce",
   "metadata": {},
   "outputs": [],
   "source": [
    "\n",
    "\n",
    "# # train random forest\n",
    "# rf_model = RandomForestClassifier(n_estimators=200, random_state=42)\n",
    "rf_model.fit(X_train_pca, y_train)\n",
    "\n",
    "# predict\n",
    "y_pred = best_rf_model.predict(X_test_pca)\n",
    "# y_pred = rf_model.predict(X_test_pca)"
   ]
  },
  {
   "cell_type": "code",
   "execution_count": null,
   "id": "3af9d715-a0e8-41d0-b82e-f8c967ea296a",
   "metadata": {},
   "outputs": [],
   "source": [
    "# accuracy and confusion matrix\n",
    "accuracy = accuracy_score(y_test, y_pred)\n",
    "conf_matrix = confusion_matrix(y_test, y_pred)\n",
    "\n",
    "print(classification_report(y_test, y_pred))\n",
    "accuracy"
   ]
  },
  {
   "cell_type": "code",
   "execution_count": null,
   "id": "564c6d8c-b3b2-4fcf-9968-0a5606ea92ce",
   "metadata": {},
   "outputs": [],
   "source": [
    "plt.figure(figsize=(8,6))\n",
    "ax = sns.heatmap(conf_matrix, annot=True, fmt='d', cmap='Blues', xticklabels=[3, 4, 5, 6, 7, 8], yticklabels=[3, 4, 5, 6, 7, 8])\n",
    "ax.set_title('Confusion Matrix')\n",
    "ax.set_xlabel('Predicted Quality')\n",
    "ax.set_ylabel('True Quality')\n",
    "for i in range(conf_matrix.shape[0]):\n",
    "    for j in range(conf_matrix.shape[1]):\n",
    "        ax.text(j + 0.5, i + 0.5, conf_matrix[i, j], ha='center', va='center', color='black')\n",
    "plt.tight_layout()\n",
    "plt.show()"
   ]
  },
  {
   "cell_type": "code",
   "execution_count": null,
   "id": "654b33a0-1c0c-4363-8023-d7bae080fbcb",
   "metadata": {},
   "outputs": [],
   "source": []
  }
 ],
 "metadata": {
  "kernelspec": {
   "display_name": "Python 3 (ipykernel)",
   "language": "python",
   "name": "python3"
  },
  "language_info": {
   "codemirror_mode": {
    "name": "ipython",
    "version": 3
   },
   "file_extension": ".py",
   "mimetype": "text/x-python",
   "name": "python",
   "nbconvert_exporter": "python",
   "pygments_lexer": "ipython3",
   "version": "3.11.7"
  }
 },
 "nbformat": 4,
 "nbformat_minor": 5
}
