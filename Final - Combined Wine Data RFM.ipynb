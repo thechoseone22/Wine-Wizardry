{
 "cells": [
  {
   "cell_type": "code",
   "execution_count": 1,
   "id": "01b14ea3-6a43-46d8-92cc-984c765c0142",
   "metadata": {},
   "outputs": [],
   "source": [
    "import pandas as pd\n",
    "from sklearn.model_selection import train_test_split, GridSearchCV, cross_val_score\n",
    "from sklearn.ensemble import RandomForestClassifier\n",
    "from sklearn.metrics import accuracy_score, confusion_matrix, classification_report\n",
    "from sklearn.preprocessing import StandardScaler\n",
    "import matplotlib.pyplot as plt\n",
    "import seaborn as sns\n",
    "from imblearn.over_sampling import SMOTE"
   ]
  },
  {
   "cell_type": "code",
   "execution_count": 2,
   "id": "732a6ae5-c41b-470d-8eef-3d8a35537538",
   "metadata": {},
   "outputs": [
    {
     "data": {
      "text/plain": [
       "(   fixed acidity  volatile acidity  citric acid  residual sugar  chlorides  \\\n",
       " 0            7.0              0.27         0.36            20.7      0.045   \n",
       " 1            6.3              0.30         0.34             1.6      0.049   \n",
       " 2            8.1              0.28         0.40             6.9      0.050   \n",
       " 3            7.2              0.23         0.32             8.5      0.058   \n",
       " 4            7.2              0.23         0.32             8.5      0.058   \n",
       " \n",
       "    free sulfur dioxide  total sulfur dioxide  density    pH  sulphates  \\\n",
       " 0                 45.0                 170.0   1.0010  3.00       0.45   \n",
       " 1                 14.0                 132.0   0.9940  3.30       0.49   \n",
       " 2                 30.0                  97.0   0.9951  3.26       0.44   \n",
       " 3                 47.0                 186.0   0.9956  3.19       0.40   \n",
       " 4                 47.0                 186.0   0.9956  3.19       0.40   \n",
       " \n",
       "    alcohol  quality  \n",
       " 0      8.8        6  \n",
       " 1      9.5        6  \n",
       " 2     10.1        6  \n",
       " 3      9.9        6  \n",
       " 4      9.9        6  ,\n",
       "    fixed acidity  volatile acidity  citric acid  residual sugar  chlorides  \\\n",
       " 0            7.4              0.70         0.00             1.9      0.076   \n",
       " 1            7.8              0.88         0.00             2.6      0.098   \n",
       " 2            7.8              0.76         0.04             2.3      0.092   \n",
       " 3           11.2              0.28         0.56             1.9      0.075   \n",
       " 4            7.4              0.70         0.00             1.9      0.076   \n",
       " \n",
       "    free sulfur dioxide  total sulfur dioxide  density    pH  sulphates  \\\n",
       " 0                 11.0                  34.0   0.9978  3.51       0.56   \n",
       " 1                 25.0                  67.0   0.9968  3.20       0.68   \n",
       " 2                 15.0                  54.0   0.9970  3.26       0.65   \n",
       " 3                 17.0                  60.0   0.9980  3.16       0.58   \n",
       " 4                 11.0                  34.0   0.9978  3.51       0.56   \n",
       " \n",
       "    alcohol  quality  \n",
       " 0      9.4        5  \n",
       " 1      9.8        5  \n",
       " 2      9.8        5  \n",
       " 3      9.8        6  \n",
       " 4      9.4        5  )"
      ]
     },
     "execution_count": 2,
     "metadata": {},
     "output_type": "execute_result"
    }
   ],
   "source": [
    "# white and red wine datasets\n",
    "white_wine_data = pd.read_csv(r'C:\\Users\\jasmi\\Projects\\Wine-Wizardry\\Red & white wine datasets\\wine-quality White.csv')\n",
    "red_wine_data = pd.read_csv(r'C:\\Users\\jasmi\\Projects\\Wine-Wizardry\\Red & white wine datasets\\wine-quality Red.csv')\n",
    "\n",
    "# Display first few rows \n",
    "white_wine_data.head(5), red_wine_data.head(5)"
   ]
  },
  {
   "cell_type": "code",
   "execution_count": 3,
   "id": "64e45b7c-f177-4440-8821-d75379d170c1",
   "metadata": {},
   "outputs": [
    {
     "data": {
      "text/plain": [
       "quality_class\n",
       "Acceptable Quality    4974\n",
       "High Quality          1277\n",
       "Poor Quality           246\n",
       "Name: count, dtype: int64"
      ]
     },
     "execution_count": 3,
     "metadata": {},
     "output_type": "execute_result"
    }
   ],
   "source": [
    "# Add 'wine_type' to distinguish between red and white\n",
    "# white_wine_data['wine_type'] = 1\n",
    "# red_wine_data['wine_type'] = 0\n",
    "\n",
    "wine_data = pd.concat([white_wine_data, red_wine_data], axis=0)\n",
    "def categorize_quality(quality):\n",
    "    if quality <= 4:\n",
    "        return 'Poor Quality'\n",
    "    elif 5 <= quality <= 6:\n",
    "        return 'Acceptable Quality'\n",
    "    else:\n",
    "        return 'High Quality'\n",
    "wine_data['quality_class'] = wine_data['quality'].apply(categorize_quality)\n",
    "\n",
    "X = wine_data.drop(columns=['quality', 'quality_class'])\n",
    "y = wine_data['quality_class']\n",
    "y.value_counts()"
   ]
  },
  {
   "cell_type": "code",
   "execution_count": 4,
   "id": "1d214bbe-1d4c-4cfa-955b-e5ac6eb25361",
   "metadata": {},
   "outputs": [],
   "source": [
    "# split data\n",
    "X_train, X_test, y_train, y_test = train_test_split(X, y, test_size=0.2, random_state=42)\n",
    "# X_train, X_test, y_train, y_test = train_test_split(X, y_adjusted, test_size=0.2, random_state=42)"
   ]
  },
  {
   "cell_type": "code",
   "execution_count": 5,
   "id": "9d5001e4-a0b1-41ff-90d1-d965a938f74e",
   "metadata": {},
   "outputs": [],
   "source": [
    "smote=SMOTE(random_state=42)\n",
    "X_train_smote, y_train_smote = smote.fit_resample(X_train, y_train)"
   ]
  },
  {
   "cell_type": "code",
   "execution_count": 6,
   "id": "b5f02909-e37d-45d2-b0ae-a82cab2e5c86",
   "metadata": {},
   "outputs": [],
   "source": [
    "# the scaler\n",
    "scaler = StandardScaler()\n",
    "\n",
    "X_train_scaled = scaler.fit_transform(X_train)\n",
    "X_test_scaled = scaler.transform(X_test)"
   ]
  },
  {
   "cell_type": "code",
   "execution_count": 7,
   "id": "0ecd420e-ad7a-4a59-ab2a-caa91a88602a",
   "metadata": {},
   "outputs": [],
   "source": [
    "rf_model = RandomForestClassifier(bootstrap=False, class_weight='balanced_subsample', max_depth=20, max_features='log2', min_samples_leaf=1, \n",
    "                                  min_samples_split=2, n_estimators=500, random_state=42)\n",
    "# param_grid = {\n",
    "#     'n_estimators': [100, 200, 300],\n",
    "#     'max_depth': [None, 10, 20],\n",
    "#     'min_samples_split': [2, 5, 10],\n",
    "#     'min_samples_leaf': [1, 2, 4]\n",
    "# }\n",
    "\n",
    "# grid_search = GridSearchCV(estimator=rf_model, param_grid=param_grid, cv=5, verbose=2, n_jobs=-1)\n",
    "# grid_search.fit(X_train_pca, y_train)\n",
    "\n",
    "# best_rf_model = grid_search.best_estimator_"
   ]
  },
  {
   "cell_type": "code",
   "execution_count": 8,
   "id": "9b5e2d9c-eea9-4ac6-9059-90cdeef953ce",
   "metadata": {},
   "outputs": [],
   "source": [
    "\n",
    "\n",
    "# # train random forest\n",
    "\n",
    "rf_model.fit(X_train_smote, y_train_smote)\n",
    "\n",
    "# predict\n",
    "y_pred = rf_model.predict(X_test)\n"
   ]
  },
  {
   "cell_type": "code",
   "execution_count": 9,
   "id": "3af9d715-a0e8-41d0-b82e-f8c967ea296a",
   "metadata": {},
   "outputs": [
    {
     "name": "stdout",
     "output_type": "stream",
     "text": [
      "                    precision    recall  f1-score   support\n",
      "\n",
      "Acceptable Quality       0.89      0.88      0.89       999\n",
      "      High Quality       0.66      0.69      0.67       253\n",
      "      Poor Quality       0.35      0.35      0.35        48\n",
      "\n",
      "          accuracy                           0.82      1300\n",
      "         macro avg       0.63      0.64      0.64      1300\n",
      "      weighted avg       0.83      0.82      0.82      1300\n",
      "\n"
     ]
    },
    {
     "data": {
      "text/plain": [
       "0.8238461538461539"
      ]
     },
     "execution_count": 9,
     "metadata": {},
     "output_type": "execute_result"
    }
   ],
   "source": [
    "# accuracy and confusion matrix\n",
    "accuracy = accuracy_score(y_test, y_pred)\n",
    "conf_matrix = confusion_matrix(y_test, y_pred)\n",
    "\n",
    "print(classification_report(y_test, y_pred))\n",
    "accuracy"
   ]
  },
  {
   "cell_type": "code",
   "execution_count": 10,
   "id": "564c6d8c-b3b2-4fcf-9968-0a5606ea92ce",
   "metadata": {},
   "outputs": [
    {
     "data": {
      "image/png": "[encoded data removed]",
      "text/plain": [
       "<Figure size 800x600 with 2 Axes>"
      ]
     },
     "metadata": {},
     "output_type": "display_data"
    }
   ],
   "source": [
    "quality_classes = ['Poor Quality', 'Acceptable Quality', 'High Quality']\n",
    "plt.figure(figsize=(8,6))\n",
    "ax = sns.heatmap(conf_matrix, annot=True, fmt='d', cmap='OrRd', xticklabels=quality_classes, yticklabels=quality_classes)\n",
    "ax.set_title('Confusion Matrix')\n",
    "ax.set_xlabel('Predicted Quality')\n",
    "ax.set_ylabel('True Quality')\n",
    "for i in range(conf_matrix.shape[0]):\n",
    "    for j in range(conf_matrix.shape[1]):\n",
    "        ax.text(j + 0.5, i + 0.5, conf_matrix[i, j], ha='center', va='center', color='black')\n",
    "plt.tight_layout()\n",
    "plt.show()"
   ]
  },
  {
   "cell_type": "code",
   "execution_count": null,
   "id": "654b33a0-1c0c-4363-8023-d7bae080fbcb",
   "metadata": {},
   "outputs": [],
   "source": []
  }
 ],
 "metadata": {
  "kernelspec": {
   "display_name": "Python 3 (ipykernel)",
   "language": "python",
   "name": "python3"
  },
  "language_info": {
   "codemirror_mode": {
    "name": "ipython",
    "version": 3
   },
   "file_extension": ".py",
   "mimetype": "text/x-python",
   "name": "python",
   "nbconvert_exporter": "python",
   "pygments_lexer": "ipython3",
   "version": "3.11.7"
  }
 },
 "nbformat": 4,
 "nbformat_minor": 5
}
